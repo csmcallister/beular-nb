{
 "cells": [
  {
   "cell_type": "code",
   "execution_count": 1,
   "metadata": {},
   "outputs": [],
   "source": [
    "from collections import Counter\n",
    "\n",
    "import pandas as pd\n",
    "\n",
    "\n",
    "stopwords = {'ourselves', 'hers', 'between', 'yourself', 'but', 'again', 'there', 'about', 'once', 'during', 'out', 'very', 'having', 'with', 'they', 'own', 'an', 'be', 'some', 'for', 'do', 'its', 'yours', 'such', 'into', 'of', 'most', 'itself', 'other', 'off', 'is', 's', 'am', 'or', 'who', 'as', 'from', 'him', 'each', 'the', 'themselves', 'until', 'below', 'are', 'we', 'these', 'your', 'his', 'through', 'don', 'nor', 'me', 'were', 'her', 'more', 'himself', 'this', 'down', 'should', 'our', 'their', 'while', 'above', 'both', 'up', 'to', 'ours', 'had', 'she', 'all', 'no', 'when', 'at', 'any', 'before', 'them', 'same', 'and', 'been', 'have', 'in', 'will', 'on', 'does', 'yourselves', 'then', 'that', 'because', 'what', 'over', 'why', 'so', 'can', 'did', 'not', 'now', 'under', 'he', 'you', 'herself', 'has', 'just', 'where', 'too', 'only', 'myself', 'which', 'those', 'i', 'after', 'few', 'whom', 't', 'being', 'if', 'theirs', 'my', 'against', 'a', 'by', 'doing', 'it', 'how', 'further', 'was', 'here', 'than'}"
   ]
  },
  {
   "cell_type": "markdown",
   "metadata": {},
   "source": [
    "# Import Data"
   ]
  },
  {
   "cell_type": "code",
   "execution_count": 2,
   "metadata": {},
   "outputs": [],
   "source": [
    "df = pd.read_csv('AI_ML_Challenge_Training_Data_Set_1_v1.csv')"
   ]
  },
  {
   "cell_type": "code",
   "execution_count": 3,
   "metadata": {},
   "outputs": [
    {
     "data": {
      "text/html": [
       "<div>\n",
       "<style scoped>\n",
       "    .dataframe tbody tr th:only-of-type {\n",
       "        vertical-align: middle;\n",
       "    }\n",
       "\n",
       "    .dataframe tbody tr th {\n",
       "        vertical-align: top;\n",
       "    }\n",
       "\n",
       "    .dataframe thead th {\n",
       "        text-align: right;\n",
       "    }\n",
       "</style>\n",
       "<table border=\"1\" class=\"dataframe\">\n",
       "  <thead>\n",
       "    <tr style=\"text-align: right;\">\n",
       "      <th></th>\n",
       "      <th>Clause ID</th>\n",
       "      <th>Clause Text</th>\n",
       "      <th>Classification</th>\n",
       "    </tr>\n",
       "  </thead>\n",
       "  <tbody>\n",
       "    <tr>\n",
       "      <th>0</th>\n",
       "      <td>1588</td>\n",
       "      <td>18. Governing Law: This Agreement shall be gov...</td>\n",
       "      <td>0</td>\n",
       "    </tr>\n",
       "    <tr>\n",
       "      <th>1</th>\n",
       "      <td>1146</td>\n",
       "      <td>1.8 Modification. We may modify, update, or di...</td>\n",
       "      <td>1</td>\n",
       "    </tr>\n",
       "    <tr>\n",
       "      <th>2</th>\n",
       "      <td>4792</td>\n",
       "      <td>Except as otherwise expressly provided in this...</td>\n",
       "      <td>0</td>\n",
       "    </tr>\n",
       "    <tr>\n",
       "      <th>3</th>\n",
       "      <td>2759</td>\n",
       "      <td>8.3.        The benefit and burdens of this Ag...</td>\n",
       "      <td>1</td>\n",
       "    </tr>\n",
       "    <tr>\n",
       "      <th>4</th>\n",
       "      <td>4400</td>\n",
       "      <td>DEFINITIONS</td>\n",
       "      <td>0</td>\n",
       "    </tr>\n",
       "  </tbody>\n",
       "</table>\n",
       "</div>"
      ],
      "text/plain": [
       "   Clause ID                                        Clause Text  \\\n",
       "0       1588  18. Governing Law: This Agreement shall be gov...   \n",
       "1       1146  1.8 Modification. We may modify, update, or di...   \n",
       "2       4792  Except as otherwise expressly provided in this...   \n",
       "3       2759  8.3.        The benefit and burdens of this Ag...   \n",
       "4       4400                                        DEFINITIONS   \n",
       "\n",
       "   Classification  \n",
       "0               0  \n",
       "1               1  \n",
       "2               0  \n",
       "3               1  \n",
       "4               0  "
      ]
     },
     "execution_count": 3,
     "metadata": {},
     "output_type": "execute_result"
    }
   ],
   "source": [
    "df.head()"
   ]
  },
  {
   "cell_type": "markdown",
   "metadata": {},
   "source": [
    "# Missing Data"
   ]
  },
  {
   "cell_type": "code",
   "execution_count": 4,
   "metadata": {},
   "outputs": [
    {
     "data": {
      "text/plain": [
       "Clause ID         0\n",
       "Clause Text       0\n",
       "Classification    0\n",
       "dtype: int64"
      ]
     },
     "execution_count": 4,
     "metadata": {},
     "output_type": "execute_result"
    }
   ],
   "source": [
    "df.isnull().sum()"
   ]
  },
  {
   "cell_type": "markdown",
   "metadata": {},
   "source": [
    "# Duplication"
   ]
  },
  {
   "cell_type": "code",
   "execution_count": 5,
   "metadata": {},
   "outputs": [
    {
     "data": {
      "text/plain": [
       "526"
      ]
     },
     "execution_count": 5,
     "metadata": {},
     "output_type": "execute_result"
    }
   ],
   "source": [
    "df['Clause Text'].duplicated().sum()"
   ]
  },
  {
   "cell_type": "markdown",
   "metadata": {},
   "source": [
    "Several hundred dupes. Hopefully a dupe has the same class consistently."
   ]
  },
  {
   "cell_type": "code",
   "execution_count": 47,
   "metadata": {},
   "outputs": [],
   "source": [
    "duplicate_clauses = df[df['Clause Text'].duplicated()]['Clause Text'].tolist()"
   ]
  },
  {
   "cell_type": "code",
   "execution_count": 60,
   "metadata": {},
   "outputs": [],
   "source": [
    "dupe_df = df[df['Clause Text'].isin(duplicate_clauses)].sort_values(by='Clause Text').reset_index()"
   ]
  },
  {
   "cell_type": "code",
   "execution_count": 61,
   "metadata": {},
   "outputs": [
    {
     "data": {
      "text/html": [
       "<div>\n",
       "<style scoped>\n",
       "    .dataframe tbody tr th:only-of-type {\n",
       "        vertical-align: middle;\n",
       "    }\n",
       "\n",
       "    .dataframe tbody tr th {\n",
       "        vertical-align: top;\n",
       "    }\n",
       "\n",
       "    .dataframe thead th {\n",
       "        text-align: right;\n",
       "    }\n",
       "</style>\n",
       "<table border=\"1\" class=\"dataframe\">\n",
       "  <thead>\n",
       "    <tr style=\"text-align: right;\">\n",
       "      <th></th>\n",
       "      <th>index</th>\n",
       "      <th>Clause ID</th>\n",
       "      <th>Clause Text</th>\n",
       "      <th>Classification</th>\n",
       "      <th>n_words</th>\n",
       "    </tr>\n",
       "  </thead>\n",
       "  <tbody>\n",
       "    <tr>\n",
       "      <th>311</th>\n",
       "      <td>3314</td>\n",
       "      <td>5249</td>\n",
       "      <td>Headings. The headings of the sections of this...</td>\n",
       "      <td>1</td>\n",
       "      <td>24</td>\n",
       "    </tr>\n",
       "    <tr>\n",
       "      <th>380</th>\n",
       "      <td>7104</td>\n",
       "      <td>6371</td>\n",
       "      <td>Nothing  contained herein shall be construed i...</td>\n",
       "      <td>1</td>\n",
       "      <td>34</td>\n",
       "    </tr>\n",
       "    <tr>\n",
       "      <th>381</th>\n",
       "      <td>7701</td>\n",
       "      <td>6372</td>\n",
       "      <td>Nothing  contained herein shall be construed i...</td>\n",
       "      <td>1</td>\n",
       "      <td>34</td>\n",
       "    </tr>\n",
       "    <tr>\n",
       "      <th>493</th>\n",
       "      <td>7465</td>\n",
       "      <td>8314</td>\n",
       "      <td>THIS AGREEMENT DOES NOT LIMIT OR DISCLAIM ANY ...</td>\n",
       "      <td>1</td>\n",
       "      <td>52</td>\n",
       "    </tr>\n",
       "    <tr>\n",
       "      <th>494</th>\n",
       "      <td>5084</td>\n",
       "      <td>8315</td>\n",
       "      <td>THIS AGREEMENT DOES NOT LIMIT OR DISCLAIM ANY ...</td>\n",
       "      <td>1</td>\n",
       "      <td>52</td>\n",
       "    </tr>\n",
       "    <tr>\n",
       "      <th>495</th>\n",
       "      <td>5019</td>\n",
       "      <td>8310</td>\n",
       "      <td>THIS AGREEMENT DOES NOT LIMIT OR DISCLAIM ANY ...</td>\n",
       "      <td>1</td>\n",
       "      <td>52</td>\n",
       "    </tr>\n",
       "    <tr>\n",
       "      <th>496</th>\n",
       "      <td>4711</td>\n",
       "      <td>8311</td>\n",
       "      <td>THIS AGREEMENT DOES NOT LIMIT OR DISCLAIM ANY ...</td>\n",
       "      <td>1</td>\n",
       "      <td>52</td>\n",
       "    </tr>\n",
       "    <tr>\n",
       "      <th>497</th>\n",
       "      <td>6776</td>\n",
       "      <td>8317</td>\n",
       "      <td>THIS AGREEMENT DOES NOT LIMIT OR DISCLAIM ANY ...</td>\n",
       "      <td>1</td>\n",
       "      <td>52</td>\n",
       "    </tr>\n",
       "    <tr>\n",
       "      <th>498</th>\n",
       "      <td>4513</td>\n",
       "      <td>8312</td>\n",
       "      <td>THIS AGREEMENT DOES NOT LIMIT OR DISCLAIM ANY ...</td>\n",
       "      <td>1</td>\n",
       "      <td>52</td>\n",
       "    </tr>\n",
       "    <tr>\n",
       "      <th>499</th>\n",
       "      <td>428</td>\n",
       "      <td>8313</td>\n",
       "      <td>THIS AGREEMENT DOES NOT LIMIT OR DISCLAIM ANY ...</td>\n",
       "      <td>1</td>\n",
       "      <td>52</td>\n",
       "    </tr>\n",
       "    <tr>\n",
       "      <th>500</th>\n",
       "      <td>3735</td>\n",
       "      <td>8316</td>\n",
       "      <td>THIS AGREEMENT DOES NOT LIMIT OR DISCLAIM ANY ...</td>\n",
       "      <td>1</td>\n",
       "      <td>52</td>\n",
       "    </tr>\n",
       "    <tr>\n",
       "      <th>544</th>\n",
       "      <td>470</td>\n",
       "      <td>8289</td>\n",
       "      <td>This Agreement and performance hereunder shall...</td>\n",
       "      <td>1</td>\n",
       "      <td>69</td>\n",
       "    </tr>\n",
       "    <tr>\n",
       "      <th>545</th>\n",
       "      <td>5992</td>\n",
       "      <td>8290</td>\n",
       "      <td>This Agreement and performance hereunder shall...</td>\n",
       "      <td>1</td>\n",
       "      <td>69</td>\n",
       "    </tr>\n",
       "  </tbody>\n",
       "</table>\n",
       "</div>"
      ],
      "text/plain": [
       "     index  Clause ID                                        Clause Text  \\\n",
       "311   3314       5249  Headings. The headings of the sections of this...   \n",
       "380   7104       6371  Nothing  contained herein shall be construed i...   \n",
       "381   7701       6372  Nothing  contained herein shall be construed i...   \n",
       "493   7465       8314  THIS AGREEMENT DOES NOT LIMIT OR DISCLAIM ANY ...   \n",
       "494   5084       8315  THIS AGREEMENT DOES NOT LIMIT OR DISCLAIM ANY ...   \n",
       "495   5019       8310  THIS AGREEMENT DOES NOT LIMIT OR DISCLAIM ANY ...   \n",
       "496   4711       8311  THIS AGREEMENT DOES NOT LIMIT OR DISCLAIM ANY ...   \n",
       "497   6776       8317  THIS AGREEMENT DOES NOT LIMIT OR DISCLAIM ANY ...   \n",
       "498   4513       8312  THIS AGREEMENT DOES NOT LIMIT OR DISCLAIM ANY ...   \n",
       "499    428       8313  THIS AGREEMENT DOES NOT LIMIT OR DISCLAIM ANY ...   \n",
       "500   3735       8316  THIS AGREEMENT DOES NOT LIMIT OR DISCLAIM ANY ...   \n",
       "544    470       8289  This Agreement and performance hereunder shall...   \n",
       "545   5992       8290  This Agreement and performance hereunder shall...   \n",
       "\n",
       "     Classification  n_words  \n",
       "311               1       24  \n",
       "380               1       34  \n",
       "381               1       34  \n",
       "493               1       52  \n",
       "494               1       52  \n",
       "495               1       52  \n",
       "496               1       52  \n",
       "497               1       52  \n",
       "498               1       52  \n",
       "499               1       52  \n",
       "500               1       52  \n",
       "544               1       69  \n",
       "545               1       69  "
      ]
     },
     "execution_count": 61,
     "metadata": {},
     "output_type": "execute_result"
    }
   ],
   "source": [
    "dupe_df[dupe_df['Classification'] == 1]"
   ]
  },
  {
   "cell_type": "markdown",
   "metadata": {},
   "source": [
    "**The first instance (Clause ID 5249) only appears once, suggesting this clause is labeled once as compliant and once as non-compliant.**"
   ]
  },
  {
   "cell_type": "code",
   "execution_count": 64,
   "metadata": {},
   "outputs": [
    {
     "data": {
      "text/html": [
       "<div>\n",
       "<style scoped>\n",
       "    .dataframe tbody tr th:only-of-type {\n",
       "        vertical-align: middle;\n",
       "    }\n",
       "\n",
       "    .dataframe tbody tr th {\n",
       "        vertical-align: top;\n",
       "    }\n",
       "\n",
       "    .dataframe thead th {\n",
       "        text-align: right;\n",
       "    }\n",
       "</style>\n",
       "<table border=\"1\" class=\"dataframe\">\n",
       "  <thead>\n",
       "    <tr style=\"text-align: right;\">\n",
       "      <th></th>\n",
       "      <th>Clause ID</th>\n",
       "      <th>Clause Text</th>\n",
       "      <th>Classification</th>\n",
       "      <th>n_words</th>\n",
       "    </tr>\n",
       "  </thead>\n",
       "  <tbody>\n",
       "    <tr>\n",
       "      <th>2497</th>\n",
       "      <td>5250</td>\n",
       "      <td>Headings. The headings of the sections of this...</td>\n",
       "      <td>0</td>\n",
       "      <td>24</td>\n",
       "    </tr>\n",
       "    <tr>\n",
       "      <th>3314</th>\n",
       "      <td>5249</td>\n",
       "      <td>Headings. The headings of the sections of this...</td>\n",
       "      <td>1</td>\n",
       "      <td>24</td>\n",
       "    </tr>\n",
       "  </tbody>\n",
       "</table>\n",
       "</div>"
      ],
      "text/plain": [
       "      Clause ID                                        Clause Text  \\\n",
       "2497       5250  Headings. The headings of the sections of this...   \n",
       "3314       5249  Headings. The headings of the sections of this...   \n",
       "\n",
       "      Classification  n_words  \n",
       "2497               0       24  \n",
       "3314               1       24  "
      ]
     },
     "execution_count": 64,
     "metadata": {},
     "output_type": "execute_result"
    }
   ],
   "source": [
    "df[df['Clause Text'] == dupe_df.iloc[311]['Clause Text']]"
   ]
  },
  {
   "cell_type": "markdown",
   "metadata": {},
   "source": [
    "What about the other clause in all caps that appears several times?"
   ]
  },
  {
   "cell_type": "code",
   "execution_count": 69,
   "metadata": {},
   "outputs": [
    {
     "data": {
      "text/html": [
       "<div>\n",
       "<style scoped>\n",
       "    .dataframe tbody tr th:only-of-type {\n",
       "        vertical-align: middle;\n",
       "    }\n",
       "\n",
       "    .dataframe tbody tr th {\n",
       "        vertical-align: top;\n",
       "    }\n",
       "\n",
       "    .dataframe thead th {\n",
       "        text-align: right;\n",
       "    }\n",
       "</style>\n",
       "<table border=\"1\" class=\"dataframe\">\n",
       "  <thead>\n",
       "    <tr style=\"text-align: right;\">\n",
       "      <th></th>\n",
       "      <th>Clause ID</th>\n",
       "      <th>Clause Text</th>\n",
       "      <th>Classification</th>\n",
       "      <th>n_words</th>\n",
       "    </tr>\n",
       "  </thead>\n",
       "  <tbody>\n",
       "    <tr>\n",
       "      <th>428</th>\n",
       "      <td>8313</td>\n",
       "      <td>THIS AGREEMENT DOES NOT LIMIT OR DISCLAIM ANY ...</td>\n",
       "      <td>1</td>\n",
       "      <td>52</td>\n",
       "    </tr>\n",
       "    <tr>\n",
       "      <th>3735</th>\n",
       "      <td>8316</td>\n",
       "      <td>THIS AGREEMENT DOES NOT LIMIT OR DISCLAIM ANY ...</td>\n",
       "      <td>1</td>\n",
       "      <td>52</td>\n",
       "    </tr>\n",
       "    <tr>\n",
       "      <th>4513</th>\n",
       "      <td>8312</td>\n",
       "      <td>THIS AGREEMENT DOES NOT LIMIT OR DISCLAIM ANY ...</td>\n",
       "      <td>1</td>\n",
       "      <td>52</td>\n",
       "    </tr>\n",
       "    <tr>\n",
       "      <th>4711</th>\n",
       "      <td>8311</td>\n",
       "      <td>THIS AGREEMENT DOES NOT LIMIT OR DISCLAIM ANY ...</td>\n",
       "      <td>1</td>\n",
       "      <td>52</td>\n",
       "    </tr>\n",
       "    <tr>\n",
       "      <th>5019</th>\n",
       "      <td>8310</td>\n",
       "      <td>THIS AGREEMENT DOES NOT LIMIT OR DISCLAIM ANY ...</td>\n",
       "      <td>1</td>\n",
       "      <td>52</td>\n",
       "    </tr>\n",
       "    <tr>\n",
       "      <th>5084</th>\n",
       "      <td>8315</td>\n",
       "      <td>THIS AGREEMENT DOES NOT LIMIT OR DISCLAIM ANY ...</td>\n",
       "      <td>1</td>\n",
       "      <td>52</td>\n",
       "    </tr>\n",
       "    <tr>\n",
       "      <th>6776</th>\n",
       "      <td>8317</td>\n",
       "      <td>THIS AGREEMENT DOES NOT LIMIT OR DISCLAIM ANY ...</td>\n",
       "      <td>1</td>\n",
       "      <td>52</td>\n",
       "    </tr>\n",
       "    <tr>\n",
       "      <th>7465</th>\n",
       "      <td>8314</td>\n",
       "      <td>THIS AGREEMENT DOES NOT LIMIT OR DISCLAIM ANY ...</td>\n",
       "      <td>1</td>\n",
       "      <td>52</td>\n",
       "    </tr>\n",
       "  </tbody>\n",
       "</table>\n",
       "</div>"
      ],
      "text/plain": [
       "      Clause ID                                        Clause Text  \\\n",
       "428        8313  THIS AGREEMENT DOES NOT LIMIT OR DISCLAIM ANY ...   \n",
       "3735       8316  THIS AGREEMENT DOES NOT LIMIT OR DISCLAIM ANY ...   \n",
       "4513       8312  THIS AGREEMENT DOES NOT LIMIT OR DISCLAIM ANY ...   \n",
       "4711       8311  THIS AGREEMENT DOES NOT LIMIT OR DISCLAIM ANY ...   \n",
       "5019       8310  THIS AGREEMENT DOES NOT LIMIT OR DISCLAIM ANY ...   \n",
       "5084       8315  THIS AGREEMENT DOES NOT LIMIT OR DISCLAIM ANY ...   \n",
       "6776       8317  THIS AGREEMENT DOES NOT LIMIT OR DISCLAIM ANY ...   \n",
       "7465       8314  THIS AGREEMENT DOES NOT LIMIT OR DISCLAIM ANY ...   \n",
       "\n",
       "      Classification  n_words  \n",
       "428                1       52  \n",
       "3735               1       52  \n",
       "4513               1       52  \n",
       "4711               1       52  \n",
       "5019               1       52  \n",
       "5084               1       52  \n",
       "6776               1       52  \n",
       "7465               1       52  "
      ]
     },
     "execution_count": 69,
     "metadata": {},
     "output_type": "execute_result"
    }
   ],
   "source": [
    "df[df['Clause Text'] == dupe_df.iloc[500]['Clause Text']]"
   ]
  },
  {
   "cell_type": "markdown",
   "metadata": {},
   "source": [
    "phew!"
   ]
  },
  {
   "cell_type": "markdown",
   "metadata": {},
   "source": [
    "# Class Balance"
   ]
  },
  {
   "cell_type": "code",
   "execution_count": 9,
   "metadata": {},
   "outputs": [
    {
     "data": {
      "text/plain": [
       "0    6407\n",
       "1    1472\n",
       "Name: Classification, dtype: int64"
      ]
     },
     "execution_count": 9,
     "metadata": {},
     "output_type": "execute_result"
    }
   ],
   "source": [
    "df['Classification'].value_counts()"
   ]
  },
  {
   "cell_type": "code",
   "execution_count": 10,
   "metadata": {},
   "outputs": [
    {
     "data": {
      "text/plain": [
       "0.22974871234587171"
      ]
     },
     "execution_count": 10,
     "metadata": {},
     "output_type": "execute_result"
    }
   ],
   "source": [
    "1472 / 6407"
   ]
  },
  {
   "cell_type": "markdown",
   "metadata": {},
   "source": [
    "# Clause Descriptive Stats"
   ]
  },
  {
   "cell_type": "markdown",
   "metadata": {},
   "source": [
    "## Number of words per clause"
   ]
  },
  {
   "cell_type": "code",
   "execution_count": 11,
   "metadata": {},
   "outputs": [
    {
     "data": {
      "text/plain": [
       "<matplotlib.axes._subplots.AxesSubplot at 0x1116f1b00>"
      ]
     },
     "execution_count": 11,
     "metadata": {},
     "output_type": "execute_result"
    },
    {
     "data": {
      "image/png": "[encoded data removed]",
      "text/plain": [
       "<Figure size 432x288 with 1 Axes>"
      ]
     },
     "metadata": {
      "needs_background": "light"
     },
     "output_type": "display_data"
    }
   ],
   "source": [
    "df['Clause Text'].apply(lambda x: len(x.split())).plot(kind='hist')"
   ]
  },
  {
   "cell_type": "code",
   "execution_count": 12,
   "metadata": {},
   "outputs": [
    {
     "data": {
      "text/html": [
       "<div>\n",
       "<style scoped>\n",
       "    .dataframe tbody tr th:only-of-type {\n",
       "        vertical-align: middle;\n",
       "    }\n",
       "\n",
       "    .dataframe tbody tr th {\n",
       "        vertical-align: top;\n",
       "    }\n",
       "\n",
       "    .dataframe thead th {\n",
       "        text-align: right;\n",
       "    }\n",
       "</style>\n",
       "<table border=\"1\" class=\"dataframe\">\n",
       "  <thead>\n",
       "    <tr style=\"text-align: right;\">\n",
       "      <th></th>\n",
       "      <th>count</th>\n",
       "      <th>mean</th>\n",
       "      <th>std</th>\n",
       "      <th>min</th>\n",
       "      <th>25%</th>\n",
       "      <th>50%</th>\n",
       "      <th>75%</th>\n",
       "      <th>max</th>\n",
       "    </tr>\n",
       "    <tr>\n",
       "      <th>Classification</th>\n",
       "      <th></th>\n",
       "      <th></th>\n",
       "      <th></th>\n",
       "      <th></th>\n",
       "      <th></th>\n",
       "      <th></th>\n",
       "      <th></th>\n",
       "      <th></th>\n",
       "    </tr>\n",
       "  </thead>\n",
       "  <tbody>\n",
       "    <tr>\n",
       "      <th>0</th>\n",
       "      <td>6407.0</td>\n",
       "      <td>69.228968</td>\n",
       "      <td>134.992024</td>\n",
       "      <td>0.0</td>\n",
       "      <td>14.0</td>\n",
       "      <td>39.0</td>\n",
       "      <td>85.0</td>\n",
       "      <td>7347.0</td>\n",
       "    </tr>\n",
       "    <tr>\n",
       "      <th>1</th>\n",
       "      <td>1472.0</td>\n",
       "      <td>126.106658</td>\n",
       "      <td>100.864126</td>\n",
       "      <td>2.0</td>\n",
       "      <td>60.0</td>\n",
       "      <td>98.0</td>\n",
       "      <td>163.0</td>\n",
       "      <td>982.0</td>\n",
       "    </tr>\n",
       "  </tbody>\n",
       "</table>\n",
       "</div>"
      ],
      "text/plain": [
       "                 count        mean         std  min   25%   50%    75%     max\n",
       "Classification                                                                \n",
       "0               6407.0   69.228968  134.992024  0.0  14.0  39.0   85.0  7347.0\n",
       "1               1472.0  126.106658  100.864126  2.0  60.0  98.0  163.0   982.0"
      ]
     },
     "execution_count": 12,
     "metadata": {},
     "output_type": "execute_result"
    }
   ],
   "source": [
    "df['n_words'] = df['Clause Text'].apply(lambda x: len(x.split()))\n",
    "df.groupby(by='Classification')['n_words'].describe()"
   ]
  },
  {
   "cell_type": "code",
   "execution_count": 21,
   "metadata": {},
   "outputs": [
    {
     "data": {
      "text/plain": [
       "Ttest_indResult(statistic=15.218566508583944, pvalue=1.4349538376677368e-51)"
      ]
     },
     "execution_count": 21,
     "metadata": {},
     "output_type": "execute_result"
    }
   ],
   "source": [
    "# t-test for difference in means\n",
    "from scipy import stats\n",
    "a = df[df['Classification'] == 1]['n_words']\n",
    "b = df[df['Classification'] == 0]['n_words']\n",
    "test_res = stats.ttest_ind(a, b)\n",
    "test_res.pvalue"
   ]
  },
  {
   "cell_type": "code",
   "execution_count": 27,
   "metadata": {},
   "outputs": [
    {
     "data": {
      "text/plain": [
       "7.174769188338684e-52"
      ]
     },
     "execution_count": 27,
     "metadata": {},
     "output_type": "execute_result"
    }
   ],
   "source": [
    "test_res.pvalue/2"
   ]
  },
  {
   "cell_type": "code",
   "execution_count": 26,
   "metadata": {},
   "outputs": [
    {
     "data": {
      "text/plain": [
       "True"
      ]
     },
     "execution_count": 26,
     "metadata": {},
     "output_type": "execute_result"
    }
   ],
   "source": [
    "# should be one-sided b/c we're assuming negative samples have fewer words\n",
    "test_res.pvalue/2 < .05 and test_res.statistic > 0"
   ]
  },
  {
   "cell_type": "markdown",
   "metadata": {},
   "source": [
    "This test suggests that there is a statistically signficant difference in the population mean of word length between positive and negative clauses. This makes me dubious of the data generation process because a \"clause\" certianly cannot be just one or a few words."
   ]
  },
  {
   "cell_type": "code",
   "execution_count": 13,
   "metadata": {},
   "outputs": [
    {
     "data": {
      "text/plain": [
       "0    260\n",
       "Name: Classification, dtype: int64"
      ]
     },
     "execution_count": 13,
     "metadata": {},
     "output_type": "execute_result"
    }
   ],
   "source": [
    "df[df['n_words'] == 1]['Classification'].value_counts()"
   ]
  },
  {
   "cell_type": "code",
   "execution_count": 14,
   "metadata": {},
   "outputs": [
    {
     "data": {
      "text/plain": [
       "0.032999111562381014"
      ]
     },
     "execution_count": 14,
     "metadata": {},
     "output_type": "execute_result"
    }
   ],
   "source": [
    "260 / df.shape[0]"
   ]
  },
  {
   "cell_type": "code",
   "execution_count": 16,
   "metadata": {},
   "outputs": [
    {
     "data": {
      "text/plain": [
       "0    779\n",
       "1      4\n",
       "Name: Classification, dtype: int64"
      ]
     },
     "execution_count": 16,
     "metadata": {},
     "output_type": "execute_result"
    }
   ],
   "source": [
    "df[df['n_words'] <= 3]['Classification'].value_counts()"
   ]
  },
  {
   "cell_type": "code",
   "execution_count": 18,
   "metadata": {},
   "outputs": [
    {
     "data": {
      "text/plain": [
       "0.09937809366670897"
      ]
     },
     "execution_count": 18,
     "metadata": {},
     "output_type": "execute_result"
    }
   ],
   "source": [
    "(779 + 4) / df.shape[0]"
   ]
  },
  {
   "cell_type": "code",
   "execution_count": null,
   "metadata": {},
   "outputs": [],
   "source": [
    "df[df['Classification'] == 1]"
   ]
  },
  {
   "cell_type": "markdown",
   "metadata": {},
   "source": [
    "## Common Words"
   ]
  },
  {
   "cell_type": "code",
   "execution_count": 28,
   "metadata": {},
   "outputs": [],
   "source": [
    "noncomplinat_words = [word for word in \" \".join(df[df['Classification'] == 1]['Clause Text'].str.lower()).split() if word not in stopwords]\n",
    "complinat_words = [word for word in \" \".join(df[df['Classification'] == 0]['Clause Text'].str.lower()).split() if word not in stopwords]"
   ]
  },
  {
   "cell_type": "code",
   "execution_count": 29,
   "metadata": {},
   "outputs": [
    {
     "data": {
      "text/plain": [
       "[('company', 2810),\n",
       " ('shall', 1501),\n",
       " ('agreement', 1347),\n",
       " ('software', 1133),\n",
       " ('customer', 1127),\n",
       " ('use', 1044),\n",
       " ('may', 988),\n",
       " ('services', 870),\n",
       " ('party', 869),\n",
       " ('terms', 817)]"
      ]
     },
     "execution_count": 29,
     "metadata": {},
     "output_type": "execute_result"
    }
   ],
   "source": [
    "Counter(noncomplinat_words).most_common(10)"
   ]
  },
  {
   "cell_type": "code",
   "execution_count": 30,
   "metadata": {},
   "outputs": [
    {
     "data": {
      "text/plain": [
       "[('company', 6518),\n",
       " ('software', 3694),\n",
       " ('shall', 3287),\n",
       " ('use', 2899),\n",
       " ('agreement', 2431),\n",
       " ('may', 2134),\n",
       " ('customer', 2132),\n",
       " ('services', 1683),\n",
       " ('information', 1581),\n",
       " ('license', 1567)]"
      ]
     },
     "execution_count": 30,
     "metadata": {},
     "output_type": "execute_result"
    }
   ],
   "source": [
    "Counter(complinat_words).most_common(10)"
   ]
  },
  {
   "cell_type": "code",
   "execution_count": 21,
   "metadata": {},
   "outputs": [
    {
     "ename": "TypeError",
     "evalue": "'LazyCorpusLoader' object is not iterable",
     "output_type": "error",
     "traceback": [
      "\u001b[0;31m---------------------------------------------------------------------------\u001b[0m",
      "\u001b[0;31mTypeError\u001b[0m                                 Traceback (most recent call last)",
      "\u001b[0;32m<ipython-input-21-19dc43d40213>\u001b[0m in \u001b[0;36m<module>\u001b[0;34m\u001b[0m\n\u001b[0;32m----> 1\u001b[0;31m \u001b[0mset\u001b[0m\u001b[0;34m(\u001b[0m\u001b[0mstopwords\u001b[0m\u001b[0;34m)\u001b[0m\u001b[0;34m\u001b[0m\u001b[0;34m\u001b[0m\u001b[0m\n\u001b[0m",
      "\u001b[0;31mTypeError\u001b[0m: 'LazyCorpusLoader' object is not iterable"
     ]
    }
   ],
   "source": []
  },
  {
   "cell_type": "code",
   "execution_count": null,
   "metadata": {},
   "outputs": [],
   "source": []
  }
 ],
 "metadata": {
  "kernelspec": {
   "display_name": "Python 3",
   "language": "python",
   "name": "python3"
  },
  "language_info": {
   "codemirror_mode": {
    "name": "ipython",
    "version": 3
   },
   "file_extension": ".py",
   "mimetype": "text/x-python",
   "name": "python",
   "nbconvert_exporter": "python",
   "pygments_lexer": "ipython3",
   "version": "3.7.3"
  }
 },
 "nbformat": 4,
 "nbformat_minor": 4
}
