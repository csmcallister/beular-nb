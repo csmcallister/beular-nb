{
 "cells": [
  {
   "cell_type": "code",
   "execution_count": 1,
   "metadata": {},
   "outputs": [],
   "source": [
    "from collections import Counter\n",
    "\n",
    "import pandas as pd\n",
    "\n",
    "\n",
    "stopwords = {'ourselves', 'hers', 'between', 'yourself', 'but', 'again', 'there', 'about', 'once', 'during', 'out', 'very', 'having', 'with', 'they', 'own', 'an', 'be', 'some', 'for', 'do', 'its', 'yours', 'such', 'into', 'of', 'most', 'itself', 'other', 'off', 'is', 's', 'am', 'or', 'who', 'as', 'from', 'him', 'each', 'the', 'themselves', 'until', 'below', 'are', 'we', 'these', 'your', 'his', 'through', 'don', 'nor', 'me', 'were', 'her', 'more', 'himself', 'this', 'down', 'should', 'our', 'their', 'while', 'above', 'both', 'up', 'to', 'ours', 'had', 'she', 'all', 'no', 'when', 'at', 'any', 'before', 'them', 'same', 'and', 'been', 'have', 'in', 'will', 'on', 'does', 'yourselves', 'then', 'that', 'because', 'what', 'over', 'why', 'so', 'can', 'did', 'not', 'now', 'under', 'he', 'you', 'herself', 'has', 'just', 'where', 'too', 'only', 'myself', 'which', 'those', 'i', 'after', 'few', 'whom', 't', 'being', 'if', 'theirs', 'my', 'against', 'a', 'by', 'doing', 'it', 'how', 'further', 'was', 'here', 'than'}"
   ]
  },
  {
   "cell_type": "markdown",
   "metadata": {},
   "source": [
    "# Import Data"
   ]
  },
  {
   "cell_type": "code",
   "execution_count": 2,
   "metadata": {},
   "outputs": [],
   "source": [
    "df = pd.read_csv('AI_ML_Challenge_Training_Data_Set_1_v1.csv')"
   ]
  },
  {
   "cell_type": "code",
   "execution_count": 3,
   "metadata": {},
   "outputs": [
    {
     "data": {
      "text/html": [
       "<div>\n",
       "<style scoped>\n",
       "    .dataframe tbody tr th:only-of-type {\n",
       "        vertical-align: middle;\n",
       "    }\n",
       "\n",
       "    .dataframe tbody tr th {\n",
       "        vertical-align: top;\n",
       "    }\n",
       "\n",
       "    .dataframe thead th {\n",
       "        text-align: right;\n",
       "    }\n",
       "</style>\n",
       "<table border=\"1\" class=\"dataframe\">\n",
       "  <thead>\n",
       "    <tr style=\"text-align: right;\">\n",
       "      <th></th>\n",
       "      <th>Clause ID</th>\n",
       "      <th>Clause Text</th>\n",
       "      <th>Classification</th>\n",
       "    </tr>\n",
       "  </thead>\n",
       "  <tbody>\n",
       "    <tr>\n",
       "      <th>0</th>\n",
       "      <td>1588</td>\n",
       "      <td>18. Governing Law: This Agreement shall be gov...</td>\n",
       "      <td>0</td>\n",
       "    </tr>\n",
       "    <tr>\n",
       "      <th>1</th>\n",
       "      <td>1146</td>\n",
       "      <td>1.8 Modification. We may modify, update, or di...</td>\n",
       "      <td>1</td>\n",
       "    </tr>\n",
       "    <tr>\n",
       "      <th>2</th>\n",
       "      <td>4792</td>\n",
       "      <td>Except as otherwise expressly provided in this...</td>\n",
       "      <td>0</td>\n",
       "    </tr>\n",
       "    <tr>\n",
       "      <th>3</th>\n",
       "      <td>2759</td>\n",
       "      <td>8.3.        The benefit and burdens of this Ag...</td>\n",
       "      <td>1</td>\n",
       "    </tr>\n",
       "    <tr>\n",
       "      <th>4</th>\n",
       "      <td>4400</td>\n",
       "      <td>DEFINITIONS</td>\n",
       "      <td>0</td>\n",
       "    </tr>\n",
       "  </tbody>\n",
       "</table>\n",
       "</div>"
      ],
      "text/plain": [
       "   Clause ID                                        Clause Text  \\\n",
       "0       1588  18. Governing Law: This Agreement shall be gov...   \n",
       "1       1146  1.8 Modification. We may modify, update, or di...   \n",
       "2       4792  Except as otherwise expressly provided in this...   \n",
       "3       2759  8.3.        The benefit and burdens of this Ag...   \n",
       "4       4400                                        DEFINITIONS   \n",
       "\n",
       "   Classification  \n",
       "0               0  \n",
       "1               1  \n",
       "2               0  \n",
       "3               1  \n",
       "4               0  "
      ]
     },
     "execution_count": 3,
     "metadata": {},
     "output_type": "execute_result"
    }
   ],
   "source": [
    "df.head()"
   ]
  },
  {
   "cell_type": "markdown",
   "metadata": {},
   "source": [
    "# Missing Data"
   ]
  },
  {
   "cell_type": "code",
   "execution_count": 4,
   "metadata": {},
   "outputs": [
    {
     "data": {
      "text/plain": [
       "Clause ID         0\n",
       "Clause Text       0\n",
       "Classification    0\n",
       "dtype: int64"
      ]
     },
     "execution_count": 4,
     "metadata": {},
     "output_type": "execute_result"
    }
   ],
   "source": [
    "df.isnull().sum()"
   ]
  },
  {
   "cell_type": "markdown",
   "metadata": {},
   "source": [
    "# Duplication"
   ]
  },
  {
   "cell_type": "code",
   "execution_count": 5,
   "metadata": {},
   "outputs": [
    {
     "data": {
      "text/plain": [
       "526"
      ]
     },
     "execution_count": 5,
     "metadata": {},
     "output_type": "execute_result"
    }
   ],
   "source": [
    "df['Clause Text'].duplicated().sum()"
   ]
  },
  {
   "cell_type": "markdown",
   "metadata": {},
   "source": [
    "Several hundred dupes. Hopefully a dupe has the same class consistently."
   ]
  },
  {
   "cell_type": "code",
   "execution_count": 6,
   "metadata": {},
   "outputs": [],
   "source": [
    "duplicate_clauses = df[df['Clause Text'].duplicated()]['Clause Text'].tolist()"
   ]
  },
  {
   "cell_type": "code",
   "execution_count": 7,
   "metadata": {},
   "outputs": [],
   "source": [
    "dupe_df = df[df['Clause Text'].isin(duplicate_clauses)].sort_values(by='Clause Text').reset_index()"
   ]
  },
  {
   "cell_type": "code",
   "execution_count": 8,
   "metadata": {},
   "outputs": [
    {
     "data": {
      "text/html": [
       "<div>\n",
       "<style scoped>\n",
       "    .dataframe tbody tr th:only-of-type {\n",
       "        vertical-align: middle;\n",
       "    }\n",
       "\n",
       "    .dataframe tbody tr th {\n",
       "        vertical-align: top;\n",
       "    }\n",
       "\n",
       "    .dataframe thead th {\n",
       "        text-align: right;\n",
       "    }\n",
       "</style>\n",
       "<table border=\"1\" class=\"dataframe\">\n",
       "  <thead>\n",
       "    <tr style=\"text-align: right;\">\n",
       "      <th></th>\n",
       "      <th>index</th>\n",
       "      <th>Clause ID</th>\n",
       "      <th>Clause Text</th>\n",
       "      <th>Classification</th>\n",
       "    </tr>\n",
       "  </thead>\n",
       "  <tbody>\n",
       "    <tr>\n",
       "      <th>386</th>\n",
       "      <td>3314</td>\n",
       "      <td>5249</td>\n",
       "      <td>Headings. The headings of the sections of this...</td>\n",
       "      <td>1</td>\n",
       "    </tr>\n",
       "    <tr>\n",
       "      <th>472</th>\n",
       "      <td>7104</td>\n",
       "      <td>6371</td>\n",
       "      <td>Nothing  contained herein shall be construed i...</td>\n",
       "      <td>1</td>\n",
       "    </tr>\n",
       "    <tr>\n",
       "      <th>473</th>\n",
       "      <td>7701</td>\n",
       "      <td>6372</td>\n",
       "      <td>Nothing  contained herein shall be construed i...</td>\n",
       "      <td>1</td>\n",
       "    </tr>\n",
       "    <tr>\n",
       "      <th>642</th>\n",
       "      <td>5084</td>\n",
       "      <td>8315</td>\n",
       "      <td>THIS AGREEMENT DOES NOT LIMIT OR DISCLAIM ANY ...</td>\n",
       "      <td>1</td>\n",
       "    </tr>\n",
       "    <tr>\n",
       "      <th>643</th>\n",
       "      <td>3735</td>\n",
       "      <td>8316</td>\n",
       "      <td>THIS AGREEMENT DOES NOT LIMIT OR DISCLAIM ANY ...</td>\n",
       "      <td>1</td>\n",
       "    </tr>\n",
       "    <tr>\n",
       "      <th>644</th>\n",
       "      <td>7465</td>\n",
       "      <td>8314</td>\n",
       "      <td>THIS AGREEMENT DOES NOT LIMIT OR DISCLAIM ANY ...</td>\n",
       "      <td>1</td>\n",
       "    </tr>\n",
       "    <tr>\n",
       "      <th>645</th>\n",
       "      <td>428</td>\n",
       "      <td>8313</td>\n",
       "      <td>THIS AGREEMENT DOES NOT LIMIT OR DISCLAIM ANY ...</td>\n",
       "      <td>1</td>\n",
       "    </tr>\n",
       "    <tr>\n",
       "      <th>646</th>\n",
       "      <td>5019</td>\n",
       "      <td>8310</td>\n",
       "      <td>THIS AGREEMENT DOES NOT LIMIT OR DISCLAIM ANY ...</td>\n",
       "      <td>1</td>\n",
       "    </tr>\n",
       "    <tr>\n",
       "      <th>647</th>\n",
       "      <td>6776</td>\n",
       "      <td>8317</td>\n",
       "      <td>THIS AGREEMENT DOES NOT LIMIT OR DISCLAIM ANY ...</td>\n",
       "      <td>1</td>\n",
       "    </tr>\n",
       "    <tr>\n",
       "      <th>648</th>\n",
       "      <td>4513</td>\n",
       "      <td>8312</td>\n",
       "      <td>THIS AGREEMENT DOES NOT LIMIT OR DISCLAIM ANY ...</td>\n",
       "      <td>1</td>\n",
       "    </tr>\n",
       "    <tr>\n",
       "      <th>649</th>\n",
       "      <td>4711</td>\n",
       "      <td>8311</td>\n",
       "      <td>THIS AGREEMENT DOES NOT LIMIT OR DISCLAIM ANY ...</td>\n",
       "      <td>1</td>\n",
       "    </tr>\n",
       "    <tr>\n",
       "      <th>696</th>\n",
       "      <td>5992</td>\n",
       "      <td>8290</td>\n",
       "      <td>This Agreement and performance hereunder shall...</td>\n",
       "      <td>1</td>\n",
       "    </tr>\n",
       "    <tr>\n",
       "      <th>697</th>\n",
       "      <td>470</td>\n",
       "      <td>8289</td>\n",
       "      <td>This Agreement and performance hereunder shall...</td>\n",
       "      <td>1</td>\n",
       "    </tr>\n",
       "  </tbody>\n",
       "</table>\n",
       "</div>"
      ],
      "text/plain": [
       "     index  Clause ID                                        Clause Text  \\\n",
       "386   3314       5249  Headings. The headings of the sections of this...   \n",
       "472   7104       6371  Nothing  contained herein shall be construed i...   \n",
       "473   7701       6372  Nothing  contained herein shall be construed i...   \n",
       "642   5084       8315  THIS AGREEMENT DOES NOT LIMIT OR DISCLAIM ANY ...   \n",
       "643   3735       8316  THIS AGREEMENT DOES NOT LIMIT OR DISCLAIM ANY ...   \n",
       "644   7465       8314  THIS AGREEMENT DOES NOT LIMIT OR DISCLAIM ANY ...   \n",
       "645    428       8313  THIS AGREEMENT DOES NOT LIMIT OR DISCLAIM ANY ...   \n",
       "646   5019       8310  THIS AGREEMENT DOES NOT LIMIT OR DISCLAIM ANY ...   \n",
       "647   6776       8317  THIS AGREEMENT DOES NOT LIMIT OR DISCLAIM ANY ...   \n",
       "648   4513       8312  THIS AGREEMENT DOES NOT LIMIT OR DISCLAIM ANY ...   \n",
       "649   4711       8311  THIS AGREEMENT DOES NOT LIMIT OR DISCLAIM ANY ...   \n",
       "696   5992       8290  This Agreement and performance hereunder shall...   \n",
       "697    470       8289  This Agreement and performance hereunder shall...   \n",
       "\n",
       "     Classification  \n",
       "386               1  \n",
       "472               1  \n",
       "473               1  \n",
       "642               1  \n",
       "643               1  \n",
       "644               1  \n",
       "645               1  \n",
       "646               1  \n",
       "647               1  \n",
       "648               1  \n",
       "649               1  \n",
       "696               1  \n",
       "697               1  "
      ]
     },
     "execution_count": 8,
     "metadata": {},
     "output_type": "execute_result"
    }
   ],
   "source": [
    "dupe_df[dupe_df['Classification'] == 1]"
   ]
  },
  {
   "cell_type": "markdown",
   "metadata": {},
   "source": [
    "**The first instance (Clause ID 5249) only appears once, suggesting this clause is labeled once as compliant and once as non-compliant.**"
   ]
  },
  {
   "cell_type": "code",
   "execution_count": 9,
   "metadata": {},
   "outputs": [
    {
     "data": {
      "text/html": [
       "<div>\n",
       "<style scoped>\n",
       "    .dataframe tbody tr th:only-of-type {\n",
       "        vertical-align: middle;\n",
       "    }\n",
       "\n",
       "    .dataframe tbody tr th {\n",
       "        vertical-align: top;\n",
       "    }\n",
       "\n",
       "    .dataframe thead th {\n",
       "        text-align: right;\n",
       "    }\n",
       "</style>\n",
       "<table border=\"1\" class=\"dataframe\">\n",
       "  <thead>\n",
       "    <tr style=\"text-align: right;\">\n",
       "      <th></th>\n",
       "      <th>Clause ID</th>\n",
       "      <th>Clause Text</th>\n",
       "      <th>Classification</th>\n",
       "    </tr>\n",
       "  </thead>\n",
       "  <tbody>\n",
       "    <tr>\n",
       "      <th>873</th>\n",
       "      <td>4674</td>\n",
       "      <td>END USER LICENSE AGREEMENT</td>\n",
       "      <td>0</td>\n",
       "    </tr>\n",
       "    <tr>\n",
       "      <th>5252</th>\n",
       "      <td>4675</td>\n",
       "      <td>END USER LICENSE AGREEMENT</td>\n",
       "      <td>0</td>\n",
       "    </tr>\n",
       "  </tbody>\n",
       "</table>\n",
       "</div>"
      ],
      "text/plain": [
       "      Clause ID                 Clause Text  Classification\n",
       "873        4674  END USER LICENSE AGREEMENT               0\n",
       "5252       4675  END USER LICENSE AGREEMENT               0"
      ]
     },
     "execution_count": 9,
     "metadata": {},
     "output_type": "execute_result"
    }
   ],
   "source": [
    "df[df['Clause Text'] == dupe_df.iloc[311]['Clause Text']]"
   ]
  },
  {
   "cell_type": "markdown",
   "metadata": {},
   "source": [
    "What about the other clause in all caps that appears several times?"
   ]
  },
  {
   "cell_type": "code",
   "execution_count": 10,
   "metadata": {},
   "outputs": [
    {
     "data": {
      "text/html": [
       "<div>\n",
       "<style scoped>\n",
       "    .dataframe tbody tr th:only-of-type {\n",
       "        vertical-align: middle;\n",
       "    }\n",
       "\n",
       "    .dataframe tbody tr th {\n",
       "        vertical-align: top;\n",
       "    }\n",
       "\n",
       "    .dataframe thead th {\n",
       "        text-align: right;\n",
       "    }\n",
       "</style>\n",
       "<table border=\"1\" class=\"dataframe\">\n",
       "  <thead>\n",
       "    <tr style=\"text-align: right;\">\n",
       "      <th></th>\n",
       "      <th>Clause ID</th>\n",
       "      <th>Clause Text</th>\n",
       "      <th>Classification</th>\n",
       "    </tr>\n",
       "  </thead>\n",
       "  <tbody>\n",
       "    <tr>\n",
       "      <th>6185</th>\n",
       "      <td>6696</td>\n",
       "      <td>Please refer to the COMPANY student license re...</td>\n",
       "      <td>0</td>\n",
       "    </tr>\n",
       "    <tr>\n",
       "      <th>6290</th>\n",
       "      <td>6695</td>\n",
       "      <td>Please refer to the COMPANY student license re...</td>\n",
       "      <td>0</td>\n",
       "    </tr>\n",
       "  </tbody>\n",
       "</table>\n",
       "</div>"
      ],
      "text/plain": [
       "      Clause ID                                        Clause Text  \\\n",
       "6185       6696  Please refer to the COMPANY student license re...   \n",
       "6290       6695  Please refer to the COMPANY student license re...   \n",
       "\n",
       "      Classification  \n",
       "6185               0  \n",
       "6290               0  "
      ]
     },
     "execution_count": 10,
     "metadata": {},
     "output_type": "execute_result"
    }
   ],
   "source": [
    "df[df['Clause Text'] == dupe_df.iloc[500]['Clause Text']]"
   ]
  },
  {
   "cell_type": "markdown",
   "metadata": {},
   "source": [
    "phew!"
   ]
  },
  {
   "cell_type": "markdown",
   "metadata": {},
   "source": [
    "# Class Balance"
   ]
  },
  {
   "cell_type": "code",
   "execution_count": 11,
   "metadata": {},
   "outputs": [
    {
     "data": {
      "text/plain": [
       "0    6407\n",
       "1    1472\n",
       "Name: Classification, dtype: int64"
      ]
     },
     "execution_count": 11,
     "metadata": {},
     "output_type": "execute_result"
    }
   ],
   "source": [
    "df['Classification'].value_counts()"
   ]
  },
  {
   "cell_type": "code",
   "execution_count": 12,
   "metadata": {},
   "outputs": [
    {
     "data": {
      "text/plain": [
       "0.22974871234587171"
      ]
     },
     "execution_count": 12,
     "metadata": {},
     "output_type": "execute_result"
    }
   ],
   "source": [
    "1472 / 6407"
   ]
  },
  {
   "cell_type": "markdown",
   "metadata": {},
   "source": [
    "# Clause Descriptive Stats"
   ]
  },
  {
   "cell_type": "markdown",
   "metadata": {},
   "source": [
    "## Number of words per clause"
   ]
  },
  {
   "cell_type": "code",
   "execution_count": 13,
   "metadata": {},
   "outputs": [
    {
     "data": {
      "text/plain": [
       "<matplotlib.axes._subplots.AxesSubplot at 0x11c35cda0>"
      ]
     },
     "execution_count": 13,
     "metadata": {},
     "output_type": "execute_result"
    },
    {
     "data": {
      "image/png": "[encoded data removed]",
      "text/plain": [
       "<Figure size 432x288 with 1 Axes>"
      ]
     },
     "metadata": {
      "needs_background": "light"
     },
     "output_type": "display_data"
    }
   ],
   "source": [
    "df['Clause Text'].apply(lambda x: len(x.split())).plot(kind='hist')"
   ]
  },
  {
   "cell_type": "code",
   "execution_count": 14,
   "metadata": {},
   "outputs": [
    {
     "data": {
      "text/html": [
       "<div>\n",
       "<style scoped>\n",
       "    .dataframe tbody tr th:only-of-type {\n",
       "        vertical-align: middle;\n",
       "    }\n",
       "\n",
       "    .dataframe tbody tr th {\n",
       "        vertical-align: top;\n",
       "    }\n",
       "\n",
       "    .dataframe thead th {\n",
       "        text-align: right;\n",
       "    }\n",
       "</style>\n",
       "<table border=\"1\" class=\"dataframe\">\n",
       "  <thead>\n",
       "    <tr style=\"text-align: right;\">\n",
       "      <th></th>\n",
       "      <th>count</th>\n",
       "      <th>mean</th>\n",
       "      <th>std</th>\n",
       "      <th>min</th>\n",
       "      <th>25%</th>\n",
       "      <th>50%</th>\n",
       "      <th>75%</th>\n",
       "      <th>max</th>\n",
       "    </tr>\n",
       "    <tr>\n",
       "      <th>Classification</th>\n",
       "      <th></th>\n",
       "      <th></th>\n",
       "      <th></th>\n",
       "      <th></th>\n",
       "      <th></th>\n",
       "      <th></th>\n",
       "      <th></th>\n",
       "      <th></th>\n",
       "    </tr>\n",
       "  </thead>\n",
       "  <tbody>\n",
       "    <tr>\n",
       "      <th>0</th>\n",
       "      <td>6407.0</td>\n",
       "      <td>69.228968</td>\n",
       "      <td>134.992024</td>\n",
       "      <td>0.0</td>\n",
       "      <td>14.0</td>\n",
       "      <td>39.0</td>\n",
       "      <td>85.0</td>\n",
       "      <td>7347.0</td>\n",
       "    </tr>\n",
       "    <tr>\n",
       "      <th>1</th>\n",
       "      <td>1472.0</td>\n",
       "      <td>126.106658</td>\n",
       "      <td>100.864126</td>\n",
       "      <td>2.0</td>\n",
       "      <td>60.0</td>\n",
       "      <td>98.0</td>\n",
       "      <td>163.0</td>\n",
       "      <td>982.0</td>\n",
       "    </tr>\n",
       "  </tbody>\n",
       "</table>\n",
       "</div>"
      ],
      "text/plain": [
       "                 count        mean         std  min   25%   50%    75%     max\n",
       "Classification                                                                \n",
       "0               6407.0   69.228968  134.992024  0.0  14.0  39.0   85.0  7347.0\n",
       "1               1472.0  126.106658  100.864126  2.0  60.0  98.0  163.0   982.0"
      ]
     },
     "execution_count": 14,
     "metadata": {},
     "output_type": "execute_result"
    }
   ],
   "source": [
    "df['n_words'] = df['Clause Text'].apply(lambda x: len(x.split()))\n",
    "df.groupby(by='Classification')['n_words'].describe()"
   ]
  },
  {
   "cell_type": "code",
   "execution_count": 15,
   "metadata": {},
   "outputs": [
    {
     "data": {
      "text/plain": [
       "1.4349538376677368e-51"
      ]
     },
     "execution_count": 15,
     "metadata": {},
     "output_type": "execute_result"
    }
   ],
   "source": [
    "# t-test for difference in means\n",
    "from scipy import stats\n",
    "a = df[df['Classification'] == 1]['n_words']\n",
    "b = df[df['Classification'] == 0]['n_words']\n",
    "test_res = stats.ttest_ind(a, b)\n",
    "test_res.pvalue"
   ]
  },
  {
   "cell_type": "code",
   "execution_count": 16,
   "metadata": {},
   "outputs": [
    {
     "data": {
      "text/plain": [
       "7.174769188338684e-52"
      ]
     },
     "execution_count": 16,
     "metadata": {},
     "output_type": "execute_result"
    }
   ],
   "source": [
    "test_res.pvalue/2"
   ]
  },
  {
   "cell_type": "code",
   "execution_count": 17,
   "metadata": {},
   "outputs": [
    {
     "data": {
      "text/plain": [
       "True"
      ]
     },
     "execution_count": 17,
     "metadata": {},
     "output_type": "execute_result"
    }
   ],
   "source": [
    "# should be one-sided b/c we're assuming negative samples have fewer words\n",
    "test_res.pvalue/2 < .05 and test_res.statistic > 0"
   ]
  },
  {
   "cell_type": "markdown",
   "metadata": {},
   "source": [
    "This test suggests that there is a statistically signficant difference in the population mean of word length between positive and negative clauses. This makes me dubious of the data generation process because a \"clause\" certianly cannot be just one or a few words."
   ]
  },
  {
   "cell_type": "code",
   "execution_count": 18,
   "metadata": {},
   "outputs": [
    {
     "data": {
      "text/plain": [
       "0    260\n",
       "Name: Classification, dtype: int64"
      ]
     },
     "execution_count": 18,
     "metadata": {},
     "output_type": "execute_result"
    }
   ],
   "source": [
    "df[df['n_words'] == 1]['Classification'].value_counts()"
   ]
  },
  {
   "cell_type": "code",
   "execution_count": 19,
   "metadata": {},
   "outputs": [
    {
     "data": {
      "text/plain": [
       "0.032999111562381014"
      ]
     },
     "execution_count": 19,
     "metadata": {},
     "output_type": "execute_result"
    }
   ],
   "source": [
    "260 / df.shape[0]"
   ]
  },
  {
   "cell_type": "code",
   "execution_count": 20,
   "metadata": {},
   "outputs": [
    {
     "data": {
      "text/plain": [
       "0    779\n",
       "1      4\n",
       "Name: Classification, dtype: int64"
      ]
     },
     "execution_count": 20,
     "metadata": {},
     "output_type": "execute_result"
    }
   ],
   "source": [
    "df[df['n_words'] <= 3]['Classification'].value_counts()"
   ]
  },
  {
   "cell_type": "code",
   "execution_count": 21,
   "metadata": {},
   "outputs": [
    {
     "data": {
      "text/plain": [
       "0.09937809366670897"
      ]
     },
     "execution_count": 21,
     "metadata": {},
     "output_type": "execute_result"
    }
   ],
   "source": [
    "(779 + 4) / df.shape[0]"
   ]
  },
  {
   "cell_type": "code",
   "execution_count": 22,
   "metadata": {},
   "outputs": [
    {
     "data": {
      "text/html": [
       "<div>\n",
       "<style scoped>\n",
       "    .dataframe tbody tr th:only-of-type {\n",
       "        vertical-align: middle;\n",
       "    }\n",
       "\n",
       "    .dataframe tbody tr th {\n",
       "        vertical-align: top;\n",
       "    }\n",
       "\n",
       "    .dataframe thead th {\n",
       "        text-align: right;\n",
       "    }\n",
       "</style>\n",
       "<table border=\"1\" class=\"dataframe\">\n",
       "  <thead>\n",
       "    <tr style=\"text-align: right;\">\n",
       "      <th></th>\n",
       "      <th>Clause ID</th>\n",
       "      <th>Clause Text</th>\n",
       "      <th>Classification</th>\n",
       "      <th>n_words</th>\n",
       "    </tr>\n",
       "  </thead>\n",
       "  <tbody>\n",
       "    <tr>\n",
       "      <th>1</th>\n",
       "      <td>1146</td>\n",
       "      <td>1.8 Modification. We may modify, update, or di...</td>\n",
       "      <td>1</td>\n",
       "      <td>84</td>\n",
       "    </tr>\n",
       "    <tr>\n",
       "      <th>3</th>\n",
       "      <td>2759</td>\n",
       "      <td>8.3.        The benefit and burdens of this Ag...</td>\n",
       "      <td>1</td>\n",
       "      <td>22</td>\n",
       "    </tr>\n",
       "    <tr>\n",
       "      <th>5</th>\n",
       "      <td>3926</td>\n",
       "      <td>COMPANY warrants that the SOFTWARE will, for a...</td>\n",
       "      <td>1</td>\n",
       "      <td>90</td>\n",
       "    </tr>\n",
       "    <tr>\n",
       "      <th>6</th>\n",
       "      <td>2600</td>\n",
       "      <td>7.1\\tTypes of Damages.  NEITHER PARTY WILL BE ...</td>\n",
       "      <td>1</td>\n",
       "      <td>101</td>\n",
       "    </tr>\n",
       "    <tr>\n",
       "      <th>10</th>\n",
       "      <td>2658</td>\n",
       "      <td>8.        Limitation of Liability  \\r\\nNEITHER...</td>\n",
       "      <td>1</td>\n",
       "      <td>117</td>\n",
       "    </tr>\n",
       "    <tr>\n",
       "      <th>...</th>\n",
       "      <td>...</td>\n",
       "      <td>...</td>\n",
       "      <td>...</td>\n",
       "      <td>...</td>\n",
       "    </tr>\n",
       "    <tr>\n",
       "      <th>7852</th>\n",
       "      <td>5593</td>\n",
       "      <td>INDEMNITY\\r\\n\\r\\nYou agree to indemnify, defen...</td>\n",
       "      <td>1</td>\n",
       "      <td>72</td>\n",
       "    </tr>\n",
       "    <tr>\n",
       "      <th>7853</th>\n",
       "      <td>4271</td>\n",
       "      <td>Customer may renew its Imagery license agreeme...</td>\n",
       "      <td>1</td>\n",
       "      <td>13</td>\n",
       "    </tr>\n",
       "    <tr>\n",
       "      <th>7872</th>\n",
       "      <td>2789</td>\n",
       "      <td>8.8        This Agreement shall be governed by...</td>\n",
       "      <td>1</td>\n",
       "      <td>73</td>\n",
       "    </tr>\n",
       "    <tr>\n",
       "      <th>7875</th>\n",
       "      <td>8456</td>\n",
       "      <td>This End User License Agreement (\"EULA\") is a ...</td>\n",
       "      <td>1</td>\n",
       "      <td>23</td>\n",
       "    </tr>\n",
       "    <tr>\n",
       "      <th>7878</th>\n",
       "      <td>3861</td>\n",
       "      <td>Company software is licensed, not sold. That m...</td>\n",
       "      <td>1</td>\n",
       "      <td>116</td>\n",
       "    </tr>\n",
       "  </tbody>\n",
       "</table>\n",
       "<p>1472 rows × 4 columns</p>\n",
       "</div>"
      ],
      "text/plain": [
       "      Clause ID                                        Clause Text  \\\n",
       "1          1146  1.8 Modification. We may modify, update, or di...   \n",
       "3          2759  8.3.        The benefit and burdens of this Ag...   \n",
       "5          3926  COMPANY warrants that the SOFTWARE will, for a...   \n",
       "6          2600  7.1\\tTypes of Damages.  NEITHER PARTY WILL BE ...   \n",
       "10         2658  8.        Limitation of Liability  \\r\\nNEITHER...   \n",
       "...         ...                                                ...   \n",
       "7852       5593  INDEMNITY\\r\\n\\r\\nYou agree to indemnify, defen...   \n",
       "7853       4271  Customer may renew its Imagery license agreeme...   \n",
       "7872       2789  8.8        This Agreement shall be governed by...   \n",
       "7875       8456  This End User License Agreement (\"EULA\") is a ...   \n",
       "7878       3861  Company software is licensed, not sold. That m...   \n",
       "\n",
       "      Classification  n_words  \n",
       "1                  1       84  \n",
       "3                  1       22  \n",
       "5                  1       90  \n",
       "6                  1      101  \n",
       "10                 1      117  \n",
       "...              ...      ...  \n",
       "7852               1       72  \n",
       "7853               1       13  \n",
       "7872               1       73  \n",
       "7875               1       23  \n",
       "7878               1      116  \n",
       "\n",
       "[1472 rows x 4 columns]"
      ]
     },
     "execution_count": 22,
     "metadata": {},
     "output_type": "execute_result"
    }
   ],
   "source": [
    "df[df['Classification'] == 1]"
   ]
  },
  {
   "cell_type": "markdown",
   "metadata": {},
   "source": [
    "## Common Words"
   ]
  },
  {
   "cell_type": "code",
   "execution_count": 23,
   "metadata": {},
   "outputs": [],
   "source": [
    "noncomplinat_words = [word for word in \" \".join(df[df['Classification'] == 1]['Clause Text'].str.lower()).split() if word not in stopwords]\n",
    "complinat_words = [word for word in \" \".join(df[df['Classification'] == 0]['Clause Text'].str.lower()).split() if word not in stopwords]"
   ]
  },
  {
   "cell_type": "code",
   "execution_count": 24,
   "metadata": {},
   "outputs": [
    {
     "data": {
      "text/plain": [
       "[('company', 2810),\n",
       " ('shall', 1501),\n",
       " ('agreement', 1347),\n",
       " ('software', 1133),\n",
       " ('customer', 1127),\n",
       " ('use', 1044),\n",
       " ('may', 988),\n",
       " ('services', 870),\n",
       " ('party', 869),\n",
       " ('terms', 817)]"
      ]
     },
     "execution_count": 24,
     "metadata": {},
     "output_type": "execute_result"
    }
   ],
   "source": [
    "Counter(noncomplinat_words).most_common(10)"
   ]
  },
  {
   "cell_type": "code",
   "execution_count": 25,
   "metadata": {},
   "outputs": [
    {
     "data": {
      "text/plain": [
       "[('company', 6523),\n",
       " ('software', 3695),\n",
       " ('shall', 3287),\n",
       " ('use', 2902),\n",
       " ('agreement', 2434),\n",
       " ('may', 2134),\n",
       " ('customer', 2132),\n",
       " ('services', 1687),\n",
       " ('information', 1581),\n",
       " ('license', 1570)]"
      ]
     },
     "execution_count": 25,
     "metadata": {},
     "output_type": "execute_result"
    }
   ],
   "source": [
    "Counter(complinat_words).most_common(10)"
   ]
  },
  {
   "cell_type": "markdown",
   "metadata": {},
   "source": [
    "Not a lot of diversity here, suggesting that tf-idf will likely identify the influential words."
   ]
  }
 ],
 "metadata": {
  "kernelspec": {
   "display_name": "Python 3",
   "language": "python",
   "name": "python3"
  },
  "language_info": {
   "codemirror_mode": {
    "name": "ipython",
    "version": 3
   },
   "file_extension": ".py",
   "mimetype": "text/x-python",
   "name": "python",
   "nbconvert_exporter": "python",
   "pygments_lexer": "ipython3",
   "version": "3.7.3"
  }
 },
 "nbformat": 4,
 "nbformat_minor": 4
}
